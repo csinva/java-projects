{
 "cells": [
  {
   "cell_type": "code",
   "execution_count": 1,
   "metadata": {},
   "outputs": [],
   "source": [
    "%load_ext autoreload\n",
    "%autoreload 2\n",
    "import numpy as np\n",
    "import scipy as sp\n",
    "import pandas as pd\n",
    "import matplotlib.pyplot as plt\n",
    "from os.path import join as oj\n",
    "import math\n",
    "import pygsheets\n",
    "\n",
    "SHEET_NAME_MAIN = 'Poker Main'\n",
    "SHEET_NAMES = [f'Player {fname}' for fname in ['tiger', 'jackal', 'walrus', 'banjo', \n",
    "                                               'hedgehog', 'slug', 'scorpblorg']]\n",
    "CARDS = []\n",
    "for num in list(range(2, 11)) + ['Jack', 'Queen', 'King', 'Ace']:\n",
    "    for suit in ['Hearts', 'Spades', 'Clubs', 'Diamonds']:\n",
    "        CARDS.append(f'{num} of {suit}')\n",
    "gc = pygsheets.authorize(service_file='creds.json')"
   ]
  },
  {
   "cell_type": "code",
   "execution_count": 43,
   "metadata": {},
   "outputs": [],
   "source": [
    "def deal(NUM_PLAYERS, CARDS, SHEET_NAME_MAIN, SHEET_NAMES):\n",
    "    # deal\n",
    "    samps = np.random.choice(CARDS, \n",
    "                             size=7 + 2 * NUM_PLAYERS, replace=False) # first 5 are the row \n",
    "    for i in range(NUM_PLAYERS):\n",
    "        sheet_name = SHEET_NAMES[i]\n",
    "        sh = gc.open(sheet_name) # name of the hospital\n",
    "        cards = samps[5 + 2 * i: 7 + 2 * i]\n",
    "        wks = sh[0] #select a sheet\n",
    "        wks.update_value('A1', cards[0])\n",
    "        wks.update_value('B1', cards[1])\n",
    "    \n",
    "    # clear board\n",
    "    sh = gc.open(SHEET_NAME_MAIN) # name of the hospital\n",
    "    wks = sh[0] #select a sheet\n",
    "    for i in range(1, 7):\n",
    "        wks.update_value(f'D{i}', '')\n",
    "        wks.update_value(f'E{i + 1}', '')\n",
    "        wks.update_value(f'F{i + 1}', '')\n",
    "        wks.update_value(f'G{i + 1}', '')\n",
    "        wks.update_value(f'H{i + 1}', '')\n",
    "\n",
    "    return samps\n",
    "        \n",
    "def reveal(samps, SHEET_NAME_MAIN, start=0, end=3):\n",
    "    sh = gc.open(SHEET_NAME_MAIN) # name of the hospital\n",
    "    wks = sh[0] #select a sheet\n",
    "    for i in range(start, end):\n",
    "        wks.update_value(f'D{i + 2}', samps[i])\n"
   ]
  },
  {
   "cell_type": "code",
   "execution_count": 52,
   "metadata": {},
   "outputs": [],
   "source": [
    "NUM_PLAYERS = 5\n",
    "samps = deal(NUM_PLAYERS, CARDS, SHEET_NAME_MAIN, SHEET_NAMES)"
   ]
  },
  {
   "cell_type": "code",
   "execution_count": 53,
   "metadata": {},
   "outputs": [],
   "source": [
    "reveal(samps, SHEET_NAME_MAIN, start=0, end=3)"
   ]
  },
  {
   "cell_type": "code",
   "execution_count": 54,
   "metadata": {},
   "outputs": [],
   "source": [
    "reveal(samps, SHEET_NAME_MAIN, start=3, end=4)"
   ]
  },
  {
   "cell_type": "code",
   "execution_count": 55,
   "metadata": {},
   "outputs": [],
   "source": [
    "reveal(samps, SHEET_NAME_MAIN, start=4, end=5)"
   ]
  },
  {
   "cell_type": "code",
   "execution_count": null,
   "metadata": {},
   "outputs": [],
   "source": [
    "# automatically erase hands\n",
    "# redistribute $\n",
    "# add button to reveal"
   ]
  }
 ],
 "metadata": {
  "kernelspec": {
   "display_name": "Python 3",
   "language": "python",
   "name": "python3"
  },
  "language_info": {
   "codemirror_mode": {
    "name": "ipython",
    "version": 3
   },
   "file_extension": ".py",
   "mimetype": "text/x-python",
   "name": "python",
   "nbconvert_exporter": "python",
   "pygments_lexer": "ipython3",
   "version": "3.7.5"
  }
 },
 "nbformat": 4,
 "nbformat_minor": 4
}
